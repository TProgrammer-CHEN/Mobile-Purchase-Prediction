{
 "cells": [
  {
   "cell_type": "code",
   "execution_count": 1,
   "metadata": {
    "collapsed": true
   },
   "outputs": [],
   "source": [
    "import pandas as pd\n",
    "import numpy as np"
   ]
  },
  {
   "cell_type": "code",
   "execution_count": 2,
   "metadata": {
    "collapsed": true
   },
   "outputs": [],
   "source": [
    "import MySQLdb\n",
    "mysql_cn= MySQLdb.connect(host='127.0.0.1', \n",
    "                port=3306,user='root', passwd='0715sql', \n",
    "                db='tianchi')"
   ]
  },
  {
   "cell_type": "code",
   "execution_count": 3,
   "metadata": {
    "collapsed": false
   },
   "outputs": [],
   "source": [
    "furture=pd.read_sql('select * from test_set;', con=mysql_cn)\n",
    "past= pd.read_sql('select * from train_set;', con=mysql_cn)"
   ]
  },
  {
   "cell_type": "code",
   "execution_count": 4,
   "metadata": {
    "collapsed": true
   },
   "outputs": [],
   "source": [
    "mysql_cn.close()"
   ]
  },
  {
   "cell_type": "code",
   "execution_count": 21,
   "metadata": {
    "collapsed": false
   },
   "outputs": [],
   "source": [
    "past_buy=past.loc[past[\"buy\"]==1,]\n",
    "#past_buy=pd.read_sql('select * from train_set where buy = 1;', con=mysql_cn)"
   ]
  },
  {
   "cell_type": "code",
   "execution_count": 22,
   "metadata": {
    "collapsed": false
   },
   "outputs": [],
   "source": [
    "past_view=past.loc[past[\"buy\"]==0,]\n",
    "#past_view=pd.read_sql('select * from train_set where buy = 0;', con=mysql_cn)"
   ]
  },
  {
   "cell_type": "code",
   "execution_count": 23,
   "metadata": {
    "collapsed": false
   },
   "outputs": [],
   "source": [
    "#test set\n",
    "x,y=53,10000\n",
    "sample1=np.random.choice(len(past_buy),x,replace=False)\n",
    "test=past_buy.iloc[sample1,:]\n",
    "past_buy=past_buy.drop(past_buy.index[sample1])\n",
    "del sample1\n",
    "\n",
    "sample2=np.random.choice(len(past_view),y,replace=False)\n",
    "test=test.append(past_view.iloc[sample2,:])\n",
    "past_view=past_view.drop(past_view.index[sample2])\n",
    "\n",
    "del sample2"
   ]
  },
  {
   "cell_type": "code",
   "execution_count": 24,
   "metadata": {
    "collapsed": false
   },
   "outputs": [],
   "source": [
    "from sklearn import tree"
   ]
  },
  {
   "cell_type": "code",
   "execution_count": 11,
   "metadata": {
    "collapsed": true
   },
   "outputs": [],
   "source": [
    "n,m=800,8"
   ]
  },
  {
   "cell_type": "code",
   "execution_count": 26,
   "metadata": {
    "collapsed": false
   },
   "outputs": [],
   "source": [
    "cluster=()\n",
    "for i in range(0,n):\n",
    "    cluster+=(tree.DecisionTreeClassifier(),)"
   ]
  },
  {
   "cell_type": "code",
   "execution_count": 25,
   "metadata": {
    "collapsed": false
   },
   "outputs": [],
   "source": [
    "features=()\n",
    "for i in range(0,n):\n",
    "    select=np.random.choice(range(4,206),m,replace=False)\n",
    "    features+=(np.append(select,3),)\n",
    "del select"
   ]
  },
  {
   "cell_type": "code",
   "execution_count": 27,
   "metadata": {
    "collapsed": true
   },
   "outputs": [],
   "source": [
    "k=10\n",
    "a=103#-x\n",
    "b=k*a"
   ]
  },
  {
   "cell_type": "code",
   "execution_count": 28,
   "metadata": {
    "collapsed": false
   },
   "outputs": [],
   "source": [
    "trains=()\n",
    "for i in range(0,n):\n",
    "    sampleA=np.random.choice(len(past_buy),a,replace=True)\n",
    "    train=past_buy.iloc[sampleA,features[i]]\n",
    "    \n",
    "    sampleB=np.random.choice(len(past_view),b,replace=True)\n",
    "    train=train.append(past_view.iloc[sampleB,features[i]])\n",
    "    \n",
    "    trains=trains+(train,)\n",
    "del sampleA\n",
    "del sampleB"
   ]
  },
  {
   "cell_type": "code",
   "execution_count": 29,
   "metadata": {
    "collapsed": false
   },
   "outputs": [],
   "source": [
    "fitted=()\n",
    "for i in range(0,n):\n",
    "    fitted+=(cluster[i].fit(trains[i].iloc[:,range(m)],trains[i][\"buy\"]),)"
   ]
  },
  {
   "cell_type": "code",
   "execution_count": 30,
   "metadata": {
    "collapsed": false
   },
   "outputs": [],
   "source": [
    "evalu=()\n",
    "for i in range(0,n):\n",
    "    select=features[i][range(m)]\n",
    "    evalu=evalu+(fitted[i].predict(test.iloc[:,select]),)\n",
    "del select"
   ]
  },
  {
   "cell_type": "code",
   "execution_count": 32,
   "metadata": {
    "collapsed": false
   },
   "outputs": [],
   "source": [
    "check=evalu[0]\n",
    "\n",
    "for i in range(1,n):\n",
    "    check=check+evalu[i]"
   ]
  },
  {
   "cell_type": "code",
   "execution_count": 79,
   "metadata": {
    "collapsed": true
   },
   "outputs": [],
   "source": [
    "truth,dream=np.array(test[\"buy\"]),(check>(float(n)/2)).astype(int)"
   ]
  },
  {
   "cell_type": "code",
   "execution_count": 80,
   "metadata": {
    "collapsed": false
   },
   "outputs": [
    {
     "data": {
      "text/plain": [
       "16"
      ]
     },
     "execution_count": 80,
     "metadata": {},
     "output_type": "execute_result"
    }
   ],
   "source": [
    "sum(dream[truth==1])"
   ]
  },
  {
   "cell_type": "code",
   "execution_count": 81,
   "metadata": {
    "collapsed": false
   },
   "outputs": [
    {
     "data": {
      "text/plain": [
       "5"
      ]
     },
     "execution_count": 81,
     "metadata": {},
     "output_type": "execute_result"
    }
   ],
   "source": [
    "sum(dream[truth==0])"
   ]
  },
  {
   "cell_type": "code",
   "execution_count": 92,
   "metadata": {
    "collapsed": false
   },
   "outputs": [],
   "source": [
    "predict=()\n",
    "for i in range(0,n):\n",
    "    select=features[i][range(m)]-1\n",
    "    predict=predict+(fitted[i].predict(furture.iloc[:,select]),)"
   ]
  },
  {
   "cell_type": "code",
   "execution_count": 93,
   "metadata": {
    "collapsed": false
   },
   "outputs": [],
   "source": [
    "final=predict[0]\n",
    "for i in range(1,n):\n",
    "    final=final+predict[i]"
   ]
  },
  {
   "cell_type": "code",
   "execution_count": 94,
   "metadata": {
    "collapsed": false
   },
   "outputs": [
    {
     "data": {
      "text/plain": [
       "22"
      ]
     },
     "execution_count": 94,
     "metadata": {},
     "output_type": "execute_result"
    }
   ],
   "source": [
    "res=furture.loc[final>=n*1/2,[\"user_id\",\"item_id\"]]\n",
    "len(res)"
   ]
  },
  {
   "cell_type": "code",
   "execution_count": 95,
   "metadata": {
    "collapsed": false
   },
   "outputs": [],
   "source": [
    "res.to_csv(\"C:/data science/race and projects/tianchi/tianchi_mobile_recommendation_predict.csv\",index=False,encoding=\"UTF-8\")"
   ]
  },
  {
   "cell_type": "code",
   "execution_count": null,
   "metadata": {
    "collapsed": true
   },
   "outputs": [],
   "source": []
  }
 ],
 "metadata": {
  "kernelspec": {
   "display_name": "Python 2",
   "language": "python",
   "name": "python2"
  },
  "language_info": {
   "codemirror_mode": {
    "name": "ipython",
    "version": 2
   },
   "file_extension": ".py",
   "mimetype": "text/x-python",
   "name": "python",
   "nbconvert_exporter": "python",
   "pygments_lexer": "ipython2",
   "version": "2.7.12"
  }
 },
 "nbformat": 4,
 "nbformat_minor": 0
}
