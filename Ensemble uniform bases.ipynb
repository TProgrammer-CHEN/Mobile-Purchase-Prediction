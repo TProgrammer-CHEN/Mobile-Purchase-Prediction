{
 "cells": [
  {
   "cell_type": "code",
   "execution_count": 1,
   "metadata": {
    "collapsed": true
   },
   "outputs": [],
   "source": [
    "import pandas as pd\n",
    "import numpy as np"
   ]
  },
  {
   "cell_type": "code",
   "execution_count": 2,
   "metadata": {
    "collapsed": true
   },
   "outputs": [],
   "source": [
    "import MySQLdb\n",
    "mysql_cn= MySQLdb.connect(host='127.0.0.1', \n",
    "                port=3306,user='root', passwd='0715sql', \n",
    "                db='tianchi')"
   ]
  },
  {
   "cell_type": "code",
   "execution_count": 3,
   "metadata": {
    "collapsed": false
   },
   "outputs": [],
   "source": [
    "furture=pd.read_sql('select * from test_set;', con=mysql_cn)\n",
    "#past= pd.read_sql('select * from train_set;', con=mysql_cn)"
   ]
  },
  {
   "cell_type": "code",
   "execution_count": 4,
   "metadata": {
    "collapsed": false
   },
   "outputs": [],
   "source": [
    "#past_buy=past.loc[past[\"buy\"]==1,]\n",
    "past_buy=pd.read_sql('select * from train_set where buy = 1;', con=mysql_cn)"
   ]
  },
  {
   "cell_type": "code",
   "execution_count": 5,
   "metadata": {
    "collapsed": false
   },
   "outputs": [],
   "source": [
    "#past_view=past.loc[past[\"buy\"]==0,]\n",
    "past_view=pd.read_sql('select * from train_set where buy = 0;', con=mysql_cn)"
   ]
  },
  {
   "cell_type": "code",
   "execution_count": 6,
   "metadata": {
    "collapsed": true
   },
   "outputs": [],
   "source": [
    "mysql_cn.close()"
   ]
  },
  {
   "cell_type": "code",
   "execution_count": null,
   "metadata": {
    "collapsed": true
   },
   "outputs": [],
   "source": []
  },
  {
   "cell_type": "code",
   "execution_count": null,
   "metadata": {
    "collapsed": false
   },
   "outputs": [],
   "source": []
  },
  {
   "cell_type": "code",
   "execution_count": 48,
   "metadata": {
    "collapsed": false
   },
   "outputs": [],
   "source": [
    "cluster=()\n",
    "for i in range(0,n):\n",
    "    cluster+=(tree.DecisionTreeClassifier(),)"
   ]
  },
  {
   "cell_type": "code",
   "execution_count": 58,
   "metadata": {
    "collapsed": false
   },
   "outputs": [],
   "source": [
    "trains=()\n",
    "for i in range(0,n):\n",
    "    train=past_buy.iloc[np.random.choice(len(past_buy),85,replace=False),:]\n",
    "    train=train.append(past_view.iloc[np.random.choice(len(past_view),850,replace=False),:])\n",
    "    trains=trains+(train,)"
   ]
  },
  {
   "cell_type": "code",
   "execution_count": 59,
   "metadata": {
    "collapsed": false
   },
   "outputs": [],
   "source": [
    "fitted=()\n",
    "for i in range(0,n):\n",
    "    fitted=fitted+(cluster[i].fit(trains[i].iloc[:,4:206],trains[i][\"buy\"]),)"
   ]
  },
  {
   "cell_type": "code",
   "execution_count": 60,
   "metadata": {
    "collapsed": false
   },
   "outputs": [],
   "source": [
    "evalu1=()\n",
    "evalu2=()\n",
    "for i in range(0,n):\n",
    "    evalu1=evalu1+(fitted[i].predict(past_buy.iloc[:,4:206]),)\n",
    "    evalu2=evalu2+(fitted[i].predict(past_view.iloc[:,4:206]),)"
   ]
  },
  {
   "cell_type": "code",
   "execution_count": 2,
   "metadata": {
    "collapsed": false
   },
   "outputs": [
    {
     "ename": "NameError",
     "evalue": "name 'evalu1' is not defined",
     "output_type": "error",
     "traceback": [
      "\u001b[1;31m---------------------------------------------------------------------------\u001b[0m",
      "\u001b[1;31mNameError\u001b[0m                                 Traceback (most recent call last)",
      "\u001b[1;32m<ipython-input-2-e2dfe688e4ac>\u001b[0m in \u001b[0;36m<module>\u001b[1;34m()\u001b[0m\n\u001b[1;32m----> 1\u001b[1;33m \u001b[0mrecall\u001b[0m\u001b[1;33m=\u001b[0m\u001b[0mevalu1\u001b[0m\u001b[1;33m[\u001b[0m\u001b[1;36m0\u001b[0m\u001b[1;33m]\u001b[0m\u001b[1;33m\u001b[0m\u001b[0m\n\u001b[0m\u001b[0;32m      2\u001b[0m \u001b[0mmistake\u001b[0m\u001b[1;33m=\u001b[0m\u001b[0mevalu2\u001b[0m\u001b[1;33m[\u001b[0m\u001b[1;36m0\u001b[0m\u001b[1;33m]\u001b[0m\u001b[1;33m\u001b[0m\u001b[0m\n\u001b[0;32m      3\u001b[0m \u001b[1;32mfor\u001b[0m \u001b[0mi\u001b[0m \u001b[1;32min\u001b[0m \u001b[0mrange\u001b[0m\u001b[1;33m(\u001b[0m\u001b[1;36m1\u001b[0m\u001b[1;33m,\u001b[0m\u001b[0mn\u001b[0m\u001b[1;33m)\u001b[0m\u001b[1;33m:\u001b[0m\u001b[1;33m\u001b[0m\u001b[0m\n\u001b[0;32m      4\u001b[0m     \u001b[0mrecall\u001b[0m\u001b[1;33m=\u001b[0m\u001b[0mrecall\u001b[0m\u001b[1;33m+\u001b[0m\u001b[0mevalu1\u001b[0m\u001b[1;33m[\u001b[0m\u001b[0mi\u001b[0m\u001b[1;33m]\u001b[0m\u001b[1;33m\u001b[0m\u001b[0m\n\u001b[0;32m      5\u001b[0m     \u001b[0mmistake\u001b[0m\u001b[1;33m=\u001b[0m\u001b[0mmistake\u001b[0m\u001b[1;33m+\u001b[0m\u001b[0mevalu2\u001b[0m\u001b[1;33m[\u001b[0m\u001b[0mi\u001b[0m\u001b[1;33m]\u001b[0m\u001b[1;33m\u001b[0m\u001b[0m\n",
      "\u001b[1;31mNameError\u001b[0m: name 'evalu1' is not defined"
     ]
    }
   ],
   "source": [
    "recall=evalu1[0]\n",
    "mistake=evalu2[0]\n",
    "for i in range(1,n):\n",
    "    recall=recall+evalu1[i]\n",
    "    mistake=mistake+evalu2[i]"
   ]
  },
  {
   "cell_type": "code",
   "execution_count": 1,
   "metadata": {
    "collapsed": false
   },
   "outputs": [
    {
     "ename": "NameError",
     "evalue": "name 'mistake' is not defined",
     "output_type": "error",
     "traceback": [
      "\u001b[1;31m---------------------------------------------------------------------------\u001b[0m",
      "\u001b[1;31mNameError\u001b[0m                                 Traceback (most recent call last)",
      "\u001b[1;32m<ipython-input-1-cf20b1d39a86>\u001b[0m in \u001b[0;36m<module>\u001b[1;34m()\u001b[0m\n\u001b[1;32m----> 1\u001b[1;33m \u001b[0msum\u001b[0m\u001b[1;33m(\u001b[0m\u001b[0mmistake\u001b[0m\u001b[1;33m>\u001b[0m\u001b[0mn\u001b[0m\u001b[1;33m*\u001b[0m\u001b[1;36m2\u001b[0m\u001b[1;33m/\u001b[0m\u001b[1;36m3\u001b[0m\u001b[1;33m)\u001b[0m\u001b[1;33m\u001b[0m\u001b[0m\n\u001b[0m",
      "\u001b[1;31mNameError\u001b[0m: name 'mistake' is not defined"
     ]
    }
   ],
   "source": [
    "sum(mistake>n*2/3)"
   ]
  },
  {
   "cell_type": "code",
   "execution_count": 71,
   "metadata": {
    "collapsed": false
   },
   "outputs": [
    {
     "data": {
      "text/plain": [
       "103"
      ]
     },
     "execution_count": 71,
     "metadata": {},
     "output_type": "execute_result"
    }
   ],
   "source": [
    "sum(recall>n*2/3)"
   ]
  },
  {
   "cell_type": "code",
   "execution_count": 74,
   "metadata": {
    "collapsed": false
   },
   "outputs": [],
   "source": [
    "predict=()\n",
    "for i in range(0,n):\n",
    "    predict=predict+(fitted[i].predict(furture.iloc[:,3:205]),)"
   ]
  },
  {
   "cell_type": "code",
   "execution_count": 76,
   "metadata": {
    "collapsed": false
   },
   "outputs": [],
   "source": [
    "final=predict[0]\n",
    "for i in range(1,n):\n",
    "    final=final+predict[i]"
   ]
  },
  {
   "cell_type": "code",
   "execution_count": 77,
   "metadata": {
    "collapsed": false
   },
   "outputs": [
    {
     "data": {
      "text/html": [
       "<div>\n",
       "<table border=\"1\" class=\"dataframe\">\n",
       "  <thead>\n",
       "    <tr style=\"text-align: right;\">\n",
       "      <th></th>\n",
       "      <th>user_id</th>\n",
       "      <th>item_id</th>\n",
       "    </tr>\n",
       "  </thead>\n",
       "  <tbody>\n",
       "    <tr>\n",
       "      <th>204</th>\n",
       "      <td>100068031</td>\n",
       "      <td>150442941</td>\n",
       "    </tr>\n",
       "    <tr>\n",
       "      <th>1069</th>\n",
       "      <td>100097524</td>\n",
       "      <td>388306403</td>\n",
       "    </tr>\n",
       "    <tr>\n",
       "      <th>1706</th>\n",
       "      <td>10011993</td>\n",
       "      <td>117413545</td>\n",
       "    </tr>\n",
       "    <tr>\n",
       "      <th>1805</th>\n",
       "      <td>10011993</td>\n",
       "      <td>166791892</td>\n",
       "    </tr>\n",
       "    <tr>\n",
       "      <th>1977</th>\n",
       "      <td>10011993</td>\n",
       "      <td>248224426</td>\n",
       "    </tr>\n",
       "    <tr>\n",
       "      <th>2168</th>\n",
       "      <td>10011993</td>\n",
       "      <td>35096600</td>\n",
       "    </tr>\n",
       "    <tr>\n",
       "      <th>2952</th>\n",
       "      <td>100135783</td>\n",
       "      <td>226776244</td>\n",
       "    </tr>\n",
       "    <tr>\n",
       "      <th>2964</th>\n",
       "      <td>100135783</td>\n",
       "      <td>240901487</td>\n",
       "    </tr>\n",
       "    <tr>\n",
       "      <th>4033</th>\n",
       "      <td>100198255</td>\n",
       "      <td>209277372</td>\n",
       "    </tr>\n",
       "    <tr>\n",
       "      <th>5118</th>\n",
       "      <td>100198255</td>\n",
       "      <td>371505655</td>\n",
       "    </tr>\n",
       "    <tr>\n",
       "      <th>5656</th>\n",
       "      <td>100198255</td>\n",
       "      <td>90761761</td>\n",
       "    </tr>\n",
       "    <tr>\n",
       "      <th>5836</th>\n",
       "      <td>100212013</td>\n",
       "      <td>57799007</td>\n",
       "    </tr>\n",
       "    <tr>\n",
       "      <th>7498</th>\n",
       "      <td>100253557</td>\n",
       "      <td>176316537</td>\n",
       "    </tr>\n",
       "    <tr>\n",
       "      <th>8735</th>\n",
       "      <td>100300684</td>\n",
       "      <td>295343505</td>\n",
       "    </tr>\n",
       "    <tr>\n",
       "      <th>9339</th>\n",
       "      <td>100442521</td>\n",
       "      <td>125212556</td>\n",
       "    </tr>\n",
       "    <tr>\n",
       "      <th>9347</th>\n",
       "      <td>100442521</td>\n",
       "      <td>127819102</td>\n",
       "    </tr>\n",
       "    <tr>\n",
       "      <th>9380</th>\n",
       "      <td>100442521</td>\n",
       "      <td>144908872</td>\n",
       "    </tr>\n",
       "    <tr>\n",
       "      <th>9422</th>\n",
       "      <td>100442521</td>\n",
       "      <td>169674678</td>\n",
       "    </tr>\n",
       "    <tr>\n",
       "      <th>9537</th>\n",
       "      <td>100442521</td>\n",
       "      <td>225667411</td>\n",
       "    </tr>\n",
       "    <tr>\n",
       "      <th>9557</th>\n",
       "      <td>100442521</td>\n",
       "      <td>232446323</td>\n",
       "    </tr>\n",
       "    <tr>\n",
       "      <th>9562</th>\n",
       "      <td>100442521</td>\n",
       "      <td>234530675</td>\n",
       "    </tr>\n",
       "    <tr>\n",
       "      <th>9747</th>\n",
       "      <td>100442521</td>\n",
       "      <td>333445454</td>\n",
       "    </tr>\n",
       "    <tr>\n",
       "      <th>9856</th>\n",
       "      <td>100442521</td>\n",
       "      <td>382824384</td>\n",
       "    </tr>\n",
       "    <tr>\n",
       "      <th>9866</th>\n",
       "      <td>100442521</td>\n",
       "      <td>38826745</td>\n",
       "    </tr>\n",
       "    <tr>\n",
       "      <th>9978</th>\n",
       "      <td>100442521</td>\n",
       "      <td>85464552</td>\n",
       "    </tr>\n",
       "    <tr>\n",
       "      <th>10217</th>\n",
       "      <td>100475890</td>\n",
       "      <td>321002841</td>\n",
       "    </tr>\n",
       "    <tr>\n",
       "      <th>10635</th>\n",
       "      <td>100498063</td>\n",
       "      <td>352768418</td>\n",
       "    </tr>\n",
       "    <tr>\n",
       "      <th>13301</th>\n",
       "      <td>100605</td>\n",
       "      <td>262454723</td>\n",
       "    </tr>\n",
       "    <tr>\n",
       "      <th>13372</th>\n",
       "      <td>100605</td>\n",
       "      <td>315272023</td>\n",
       "    </tr>\n",
       "    <tr>\n",
       "      <th>13955</th>\n",
       "      <td>100639219</td>\n",
       "      <td>253591922</td>\n",
       "    </tr>\n",
       "    <tr>\n",
       "      <th>...</th>\n",
       "      <td>...</td>\n",
       "      <td>...</td>\n",
       "    </tr>\n",
       "    <tr>\n",
       "      <th>337047</th>\n",
       "      <td>111409210</td>\n",
       "      <td>55969955</td>\n",
       "    </tr>\n",
       "    <tr>\n",
       "      <th>337071</th>\n",
       "      <td>111409210</td>\n",
       "      <td>67742402</td>\n",
       "    </tr>\n",
       "    <tr>\n",
       "      <th>337086</th>\n",
       "      <td>111409210</td>\n",
       "      <td>73555335</td>\n",
       "    </tr>\n",
       "    <tr>\n",
       "      <th>337093</th>\n",
       "      <td>111409210</td>\n",
       "      <td>75522886</td>\n",
       "    </tr>\n",
       "    <tr>\n",
       "      <th>337100</th>\n",
       "      <td>111409210</td>\n",
       "      <td>78072713</td>\n",
       "    </tr>\n",
       "    <tr>\n",
       "      <th>337117</th>\n",
       "      <td>111409210</td>\n",
       "      <td>85413857</td>\n",
       "    </tr>\n",
       "    <tr>\n",
       "      <th>339556</th>\n",
       "      <td>111501667</td>\n",
       "      <td>179675531</td>\n",
       "    </tr>\n",
       "    <tr>\n",
       "      <th>339753</th>\n",
       "      <td>111539434</td>\n",
       "      <td>228583777</td>\n",
       "    </tr>\n",
       "    <tr>\n",
       "      <th>339783</th>\n",
       "      <td>111539434</td>\n",
       "      <td>269380981</td>\n",
       "    </tr>\n",
       "    <tr>\n",
       "      <th>339798</th>\n",
       "      <td>111539434</td>\n",
       "      <td>28779521</td>\n",
       "    </tr>\n",
       "    <tr>\n",
       "      <th>339833</th>\n",
       "      <td>111539434</td>\n",
       "      <td>342780101</td>\n",
       "    </tr>\n",
       "    <tr>\n",
       "      <th>339836</th>\n",
       "      <td>111539434</td>\n",
       "      <td>346875603</td>\n",
       "    </tr>\n",
       "    <tr>\n",
       "      <th>339844</th>\n",
       "      <td>111539434</td>\n",
       "      <td>360498281</td>\n",
       "    </tr>\n",
       "    <tr>\n",
       "      <th>340240</th>\n",
       "      <td>111554425</td>\n",
       "      <td>235318450</td>\n",
       "    </tr>\n",
       "    <tr>\n",
       "      <th>340350</th>\n",
       "      <td>111558415</td>\n",
       "      <td>133752159</td>\n",
       "    </tr>\n",
       "    <tr>\n",
       "      <th>340389</th>\n",
       "      <td>111558415</td>\n",
       "      <td>191201912</td>\n",
       "    </tr>\n",
       "    <tr>\n",
       "      <th>340434</th>\n",
       "      <td>111558415</td>\n",
       "      <td>27875639</td>\n",
       "    </tr>\n",
       "    <tr>\n",
       "      <th>340482</th>\n",
       "      <td>111558415</td>\n",
       "      <td>351049787</td>\n",
       "    </tr>\n",
       "    <tr>\n",
       "      <th>340490</th>\n",
       "      <td>111558415</td>\n",
       "      <td>364188973</td>\n",
       "    </tr>\n",
       "    <tr>\n",
       "      <th>340706</th>\n",
       "      <td>111590335</td>\n",
       "      <td>268925186</td>\n",
       "    </tr>\n",
       "    <tr>\n",
       "      <th>340738</th>\n",
       "      <td>111590335</td>\n",
       "      <td>323607654</td>\n",
       "    </tr>\n",
       "    <tr>\n",
       "      <th>340769</th>\n",
       "      <td>111590335</td>\n",
       "      <td>45052748</td>\n",
       "    </tr>\n",
       "    <tr>\n",
       "      <th>341137</th>\n",
       "      <td>111609931</td>\n",
       "      <td>361346418</td>\n",
       "    </tr>\n",
       "    <tr>\n",
       "      <th>343516</th>\n",
       "      <td>111694210</td>\n",
       "      <td>107105238</td>\n",
       "    </tr>\n",
       "    <tr>\n",
       "      <th>343927</th>\n",
       "      <td>111694210</td>\n",
       "      <td>205300168</td>\n",
       "    </tr>\n",
       "    <tr>\n",
       "      <th>344059</th>\n",
       "      <td>111694210</td>\n",
       "      <td>240570913</td>\n",
       "    </tr>\n",
       "    <tr>\n",
       "      <th>344110</th>\n",
       "      <td>111694210</td>\n",
       "      <td>252146081</td>\n",
       "    </tr>\n",
       "    <tr>\n",
       "      <th>344427</th>\n",
       "      <td>111694210</td>\n",
       "      <td>325027735</td>\n",
       "    </tr>\n",
       "    <tr>\n",
       "      <th>344574</th>\n",
       "      <td>111694210</td>\n",
       "      <td>356269830</td>\n",
       "    </tr>\n",
       "    <tr>\n",
       "      <th>344585</th>\n",
       "      <td>111694210</td>\n",
       "      <td>358656952</td>\n",
       "    </tr>\n",
       "  </tbody>\n",
       "</table>\n",
       "<p>1127 rows × 2 columns</p>\n",
       "</div>"
      ],
      "text/plain": [
       "          user_id    item_id\n",
       "204     100068031  150442941\n",
       "1069    100097524  388306403\n",
       "1706     10011993  117413545\n",
       "1805     10011993  166791892\n",
       "1977     10011993  248224426\n",
       "2168     10011993   35096600\n",
       "2952    100135783  226776244\n",
       "2964    100135783  240901487\n",
       "4033    100198255  209277372\n",
       "5118    100198255  371505655\n",
       "5656    100198255   90761761\n",
       "5836    100212013   57799007\n",
       "7498    100253557  176316537\n",
       "8735    100300684  295343505\n",
       "9339    100442521  125212556\n",
       "9347    100442521  127819102\n",
       "9380    100442521  144908872\n",
       "9422    100442521  169674678\n",
       "9537    100442521  225667411\n",
       "9557    100442521  232446323\n",
       "9562    100442521  234530675\n",
       "9747    100442521  333445454\n",
       "9856    100442521  382824384\n",
       "9866    100442521   38826745\n",
       "9978    100442521   85464552\n",
       "10217   100475890  321002841\n",
       "10635   100498063  352768418\n",
       "13301      100605  262454723\n",
       "13372      100605  315272023\n",
       "13955   100639219  253591922\n",
       "...           ...        ...\n",
       "337047  111409210   55969955\n",
       "337071  111409210   67742402\n",
       "337086  111409210   73555335\n",
       "337093  111409210   75522886\n",
       "337100  111409210   78072713\n",
       "337117  111409210   85413857\n",
       "339556  111501667  179675531\n",
       "339753  111539434  228583777\n",
       "339783  111539434  269380981\n",
       "339798  111539434   28779521\n",
       "339833  111539434  342780101\n",
       "339836  111539434  346875603\n",
       "339844  111539434  360498281\n",
       "340240  111554425  235318450\n",
       "340350  111558415  133752159\n",
       "340389  111558415  191201912\n",
       "340434  111558415   27875639\n",
       "340482  111558415  351049787\n",
       "340490  111558415  364188973\n",
       "340706  111590335  268925186\n",
       "340738  111590335  323607654\n",
       "340769  111590335   45052748\n",
       "341137  111609931  361346418\n",
       "343516  111694210  107105238\n",
       "343927  111694210  205300168\n",
       "344059  111694210  240570913\n",
       "344110  111694210  252146081\n",
       "344427  111694210  325027735\n",
       "344574  111694210  356269830\n",
       "344585  111694210  358656952\n",
       "\n",
       "[1127 rows x 2 columns]"
      ]
     },
     "execution_count": 77,
     "metadata": {},
     "output_type": "execute_result"
    }
   ],
   "source": [
    "res=furture.loc[final>=151,[\"user_id\",\"item_id\"]]\n",
    "res.to_csv(\"C:/data science/race and projects/tianchi/tianchi_mobile_recommendation_predict.csv\",index=False,encoding=\"UTF-8\")"
   ]
  },
  {
   "cell_type": "code",
   "execution_count": null,
   "metadata": {
    "collapsed": true
   },
   "outputs": [],
   "source": []
  }
 ],
 "metadata": {
  "kernelspec": {
   "display_name": "Python 2",
   "language": "python",
   "name": "python2"
  },
  "language_info": {
   "codemirror_mode": {
    "name": "ipython",
    "version": 2
   },
   "file_extension": ".py",
   "mimetype": "text/x-python",
   "name": "python",
   "nbconvert_exporter": "python",
   "pygments_lexer": "ipython2",
   "version": "2.7.12"
  }
 },
 "nbformat": 4,
 "nbformat_minor": 0
}
